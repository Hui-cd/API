{
 "cells": [
  {
   "cell_type": "code",
   "execution_count": 1,
   "metadata": {},
   "outputs": [
    {
     "name": "stdout",
     "output_type": "stream",
     "text": [
      "[0.         0.11111111 0.22222222 0.33333333 0.44444444 0.55555556\n",
      " 0.66666667 0.77777778 0.88888889 1.        ]\n"
     ]
    }
   ],
   "source": [
    "import numpy as np\n",
    "\n",
    "# 生成从 0 到 1 的 10 个等间隔数值\n",
    "arr = np.linspace(0, 1, num=10)\n",
    "print(arr)\n"
   ]
  },
  {
   "cell_type": "code",
   "execution_count": 8,
   "metadata": {},
   "outputs": [
    {
     "name": "stdout",
     "output_type": "stream",
     "text": [
      "[ 1  2  6 24]\n",
      "[1. 1. 2. 6.]\n"
     ]
    }
   ],
   "source": [
    "import numpy as np\n",
    "\n",
    "a = np.array([1, 2, 3, 4])\n",
    "cumprod_result = np.cumprod(a,axis=0)\n",
    "print(cumprod_result)\n",
    "cumprod_result = np.append(1., cumprod_result[:-1])\n",
    "\n",
    "print(cumprod_result)"
   ]
  },
  {
   "cell_type": "markdown",
   "metadata": {},
   "source": [
    "np.linalg 模块提供了一系列用于执行线性代数运算的函数。以下是此模块中一些最常用函数的详细介绍：\n",
    "\n",
    "np.linalg.inv(a)：\n",
    "\n",
    "计算方阵 a 的逆矩阵。\n",
    "示例：np.linalg.inv(matrix)，其中 matrix 是一个方阵。\n",
    "np.linalg.det(a)：\n",
    "\n",
    "计算数组 a 的行列式。\n",
    "示例：np.linalg.det(matrix)，其中 matrix 是一个方阵。\n",
    "np.linalg.eig(a)：\n",
    "\n",
    "计算方阵 a 的特征值和右特征向量。\n",
    "返回一个元组：(特征值, 特征向量)。\n",
    "示例：eigenvalues, eigenvectors = np.linalg.eig(matrix)\n",
    "np.linalg.solve(a, b)：\n",
    "\n",
    "解线性矩阵方程或线性标量方程组 ax = b。\n",
    "a 是系数矩阵，b 是序数或因变量值。\n",
    "返回解数组 x。\n",
    "示例：x = np.linalg.solve(a, b)\n",
    "np.linalg.svd(a, full_matrices=True, compute_uv=True)：\n",
    "\n",
    "对矩阵 a 进行奇异值分解。\n",
    "返回矩阵 U，奇异值数组和矩阵 Vh（V 的共轭转置）。\n",
    "示例：U, s, Vh = np.linalg.svd(matrix)\n",
    "np.linalg.norm(x, ord=None, axis=None, keepdims=False)：\n",
    "\n",
    "计算矩阵或向量 x 的范数。\n",
    "参数 ord 决定范数的类型（例如 np.inf, -np.inf, 0, 1, 2）。\n",
    "示例：np.linalg.norm(vector, ord=2) 用于计算欧几里得范数。\n",
    "np.linalg.pinv(a, rcond=1e-15)：\n",
    "\n",
    "计算矩阵 a 的（摩尔-彭若斯）伪逆。\n",
    "用于解决最小二乘问题。\n",
    "示例：np.linalg.pinv(matrix)"
   ]
  }
 ],
 "metadata": {
  "kernelspec": {
   "display_name": "Python 3",
   "language": "python",
   "name": "python3"
  },
  "language_info": {
   "codemirror_mode": {
    "name": "ipython",
    "version": 3
   },
   "file_extension": ".py",
   "mimetype": "text/x-python",
   "name": "python",
   "nbconvert_exporter": "python",
   "pygments_lexer": "ipython3",
   "version": "3.10.12"
  }
 },
 "nbformat": 4,
 "nbformat_minor": 2
}
