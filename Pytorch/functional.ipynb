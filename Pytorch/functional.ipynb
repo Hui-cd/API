{
 "cells": [
  {
   "cell_type": "markdown",
   "metadata": {},
   "source": [
    "## nn.functional"
   ]
  },
  {
   "cell_type": "markdown",
   "metadata": {},
   "source": [
    "### interpolate 插值"
   ]
  },
  {
   "cell_type": "markdown",
   "metadata": {},
   "source": [
    "| 函数                                   | 作用说明                                                                                         | 参数                           | 示例操作                     | 输出形状变化                            | 适用场景                                  |\n",
    "|--------------------------------------|------------------------------------------------------------------------------------------------|--------------------------------|------------------------------|---------------------------------------|-----------------------------------------|\n",
    "| `torch.nn.functional.avg_pool2d(x, kernel_size=2, stride=2)` | 对输入张量进行 **2D 平均池化**，通过计算池化窗口内的平均值来减小张量的尺寸。                             | `x` (输入张量), `kernel_size` (池化窗口大小), `stride` (步幅) | 对每个 \\( 2 \\times 2 \\) 的窗口计算平均值 | 如果输入为 `(N, C, H, W)`，输出形状为 `(N, C, H/2, W/2)` | 图像下采样，减少特征图尺寸，压缩信息      |\n",
    "| `torch.nn.functional.pad(x, pad, mode=\"constant\", value=0)` | 对输入张量的边缘进行 **常数填充**，填充指定数量的元素，默认值为 0。                                     | `x` (输入张量), `pad` (填充大小), `mode` (填充模式), `value` (填充值) | 填充张量的边缘区域，用常数填充（默认 0） | 填充后的张量形状为 `(N, C, H+pad[2]+pad[3], W+pad[0]+pad[1])` | 保持尺寸一致，添加边界信息，避免数据丢失   |\n",
    "| `torch.nn.functional.interpolate(x, scale_factor=2.0, mode=\"nearest\")` | 对输入张量进行 **上采样**，通过插值方法将尺寸放大，`nearest` 表示使用最近邻插值。                          | `x` (输入张量), `scale_factor` (缩放因子), `mode` (插值模式) | 将张量的高度和宽度放大 2 倍，使用最近邻插值填充 | 如果输入为 `(N, C, H, W)`，输出形状为 `(N, C, 2*H, 2*W)` | 图像放大、超分辨率、视频放大，增强细节信息 |\n"
   ]
  },
  {
   "cell_type": "code",
   "execution_count": null,
   "metadata": {},
   "outputs": [],
   "source": []
  }
 ],
 "metadata": {
  "kernelspec": {
   "display_name": "aritfy",
   "language": "python",
   "name": "python3"
  },
  "language_info": {
   "name": "python",
   "version": "3.9.20"
  }
 },
 "nbformat": 4,
 "nbformat_minor": 2
}
