{
 "cells": [
  {
   "cell_type": "markdown",
   "metadata": {},
   "source": [
    "torch.distributed.init_process_group"
   ]
  },
  {
   "cell_type": "markdown",
   "metadata": {},
   "source": [
    "torch.distributed.init_process_group(\n",
    "    backend,\n",
    "    init_method=None,\n",
    "    world_size=-1,\n",
    "    rank=-1,\n",
    "    store=None,\n",
    "    group_name=\"\",\n",
    "    timeout=datetime.timedelta(默认 30 分钟),\n",
    "    pg_options=None\n",
    ")\n",
    "\n",
    "backend"
   ]
  }
 ],
 "metadata": {
  "language_info": {
   "name": "python"
  }
 },
 "nbformat": 4,
 "nbformat_minor": 2
}
