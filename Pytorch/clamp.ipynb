{
 "cells": [
  {
   "cell_type": "markdown",
   "metadata": {},
   "source": [
    "limit the range of tensor x to ensure the all elements remain within the given interval"
   ]
  },
  {
   "cell_type": "code",
   "execution_count": 2,
   "metadata": {},
   "outputs": [
    {
     "name": "stdout",
     "output_type": "stream",
     "text": [
      "tensor([ 0.1771,  0.1100,  1.5425, -1.2598])\n"
     ]
    },
    {
     "data": {
      "text/plain": [
       "tensor([ 0.1771,  0.1100,  0.5000, -0.5000])"
      ]
     },
     "execution_count": 2,
     "metadata": {},
     "output_type": "execute_result"
    }
   ],
   "source": [
    "import torch\n",
    "\n",
    "\n",
    "a = torch.randn(4)\n",
    "print(a)\n",
    "torch.clamp(a, min=-0.5, max=0.5)"
   ]
  }
 ],
 "metadata": {
  "kernelspec": {
   "display_name": "aritfy",
   "language": "python",
   "name": "python3"
  },
  "language_info": {
   "codemirror_mode": {
    "name": "ipython",
    "version": 3
   },
   "file_extension": ".py",
   "mimetype": "text/x-python",
   "name": "python",
   "nbconvert_exporter": "python",
   "pygments_lexer": "ipython3",
   "version": "3.9.20"
  }
 },
 "nbformat": 4,
 "nbformat_minor": 2
}
